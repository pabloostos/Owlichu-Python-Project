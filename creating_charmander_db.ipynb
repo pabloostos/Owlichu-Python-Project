{
 "cells": [
  {
   "cell_type": "code",
   "execution_count": 100,
   "metadata": {},
   "outputs": [],
   "source": [
    "import sqlalchemy \n",
    "SQLALCHEMY_SILENCE_UBER_WARNING = 1\n",
    "from sqlalchemy.orm import relationship, sessionmaker\n",
    "from sqlalchemy import create_engine, Table, Column, Integer, String, DateTime, ForeignKey, MetaData\n",
    "from sqlalchemy.ext.declarative import declarative_base\n",
    "from datetime import datetime"
   ]
  },
  {
   "cell_type": "code",
   "execution_count": 101,
   "metadata": {
    "executionInfo": {
     "elapsed": 7,
     "status": "ok",
     "timestamp": 1675157963999,
     "user": {
      "displayName": "Gustavo Martin",
      "userId": "14365702147008401633"
     },
     "user_tz": -60
    },
    "id": "PyHhX_LPMTo-"
   },
   "outputs": [],
   "source": [
    "def connect_tcp_socket() -> sqlalchemy.engine.base.Engine:\n",
    "    \"\"\" Initializes a TCP connection pool for a Cloud SQL instance of MySQL. \"\"\"\n",
    "    db_host = ''# e.g. '127.0.0.1' ('172.17.0.1' if deployed to GAE Flex)\n",
    "    db_user = ''# e.g. 'my-db-user'\n",
    "    db_pass = ''# e.g. 'my-db-password'\n",
    "    db_name = ''# e.g. 'my-database'\n",
    "    db_port =  # e.g. 3306\n",
    "\n",
    "    engine = sqlalchemy.create_engine(\n",
    "        sqlalchemy.engine.url.URL.create(\n",
    "            drivername=\"mysql+pymysql\",\n",
    "            username=db_user,\n",
    "            password=db_pass,\n",
    "            host=db_host,\n",
    "            port=db_port,\n",
    "            database=db_name,\n",
    "        ),\n",
    "    )\n",
    "    return engine"
   ]
  },
  {
   "cell_type": "code",
   "execution_count": 102,
   "metadata": {
    "executionInfo": {
     "elapsed": 1087,
     "status": "ok",
     "timestamp": 1675157965937,
     "user": {
      "displayName": "Gustavo Martin",
      "userId": "14365702147008401633"
     },
     "user_tz": -60
    },
    "id": "TralYfhoMWax"
   },
   "outputs": [],
   "source": [
    "engine = connect_tcp_socket()\n",
    "conn = engine.connect()\n",
    "Base = declarative_base()"
   ]
  },
  {
   "cell_type": "code",
   "execution_count": 93,
   "metadata": {
    "executionInfo": {
     "elapsed": 8,
     "status": "ok",
     "timestamp": 1675158794117,
     "user": {
      "displayName": "Gustavo Martin",
      "userId": "14365702147008401633"
     },
     "user_tz": -60
    },
    "id": "eXCqzX7hO4bA"
   },
   "outputs": [],
   "source": [
    "result = conn.execute(\"SHOW TABLES;\").fetchall()\n",
    "for r in result:\n",
    "    print(r)"
   ]
  },
  {
   "cell_type": "markdown",
   "metadata": {},
   "source": [
    "Conexion a la base de datos"
   ]
  },
  {
   "cell_type": "code",
   "execution_count": 74,
   "metadata": {},
   "outputs": [
    {
     "name": "stdout",
     "output_type": "stream",
     "text": [
      "('id', 'int', 'NO', 'PRI', None, 'auto_increment')\n",
      "('username', 'varchar(50)', 'NO', 'UNI', None, '')\n",
      "('email', 'varchar(120)', 'NO', 'UNI', None, '')\n",
      "('password', 'varchar(100)', 'NO', '', None, '')\n"
     ]
    }
   ],
   "source": [
    "\n",
    "result = conn.execute(\"SHOW COLUMNS FROM users;\").fetchall()\n",
    "for r in result:\n",
    "    print(r)"
   ]
  },
  {
   "cell_type": "code",
   "execution_count": 82,
   "metadata": {},
   "outputs": [
    {
     "name": "stdout",
     "output_type": "stream",
     "text": [
      "('id', 'int', 'NO', 'PRI', None, 'auto_increment')\n",
      "('word', 'varchar(50)', 'YES', 'UNI', None, '')\n",
      "('definition', 'varchar(500)', 'YES', '', None, '')\n",
      "('user_id', 'int', 'YES', '', None, '')\n",
      "('date', 'varchar(20)', 'YES', '', None, '')\n"
     ]
    }
   ],
   "source": [
    "result = conn.execute(\"SHOW COLUMNS FROM words;\").fetchall()\n",
    "for r in result:\n",
    "    print(r)"
   ]
  },
  {
   "cell_type": "code",
   "execution_count": 103,
   "metadata": {},
   "outputs": [
    {
     "data": {
      "text/plain": [
       "<sqlalchemy.engine.cursor.LegacyCursorResult at 0x7fefe9d47040>"
      ]
     },
     "execution_count": 103,
     "metadata": {},
     "output_type": "execute_result"
    }
   ],
   "source": [
    "engine.execute('DROP TABLE IF EXISTS users;')"
   ]
  },
  {
   "cell_type": "code",
   "execution_count": 104,
   "metadata": {},
   "outputs": [],
   "source": [
    "Base.metadata.drop_all(bind=engine)"
   ]
  },
  {
   "cell_type": "markdown",
   "metadata": {},
   "source": [
    "## **TABLA USERS**"
   ]
  },
  {
   "cell_type": "code",
   "execution_count": 105,
   "metadata": {},
   "outputs": [],
   "source": [
    "class User(Base):\n",
    "    __tablename__ = 'users'\n",
    "    id = Column(Integer, primary_key=True)\n",
    "    username = Column(String(200), unique=True, nullable=False)\n",
    "    email = Column(String(500), unique=True, nullable=False)\n",
    "    password = Column(String(700), nullable=False)\n",
    "\n",
    "# create table\n",
    "Base.metadata.create_all(bind=engine)"
   ]
  },
  {
   "cell_type": "markdown",
   "metadata": {},
   "source": [
    "## **TABLA WORDS**"
   ]
  },
  {
   "cell_type": "code",
   "execution_count": 107,
   "metadata": {},
   "outputs": [],
   "source": [
    "\n",
    "metadata = MetaData()\n",
    "\n",
    "words = Table('words', metadata,\n",
    "    Column('id', Integer, primary_key=True),\n",
    "    Column('word', String(300), unique=True),\n",
    "    Column('definition', String(1000)),\n",
    "    Column('user_id', Integer),\n",
    "    Column('date', String(500))\n",
    ")\n",
    "\n",
    "metadata.create_all(engine)"
   ]
  }
 ],
 "metadata": {
  "kernelspec": {
   "display_name": "Python 3.9.12 ('base')",
   "language": "python",
   "name": "python3"
  },
  "language_info": {
   "codemirror_mode": {
    "name": "ipython",
    "version": 3
   },
   "file_extension": ".py",
   "mimetype": "text/x-python",
   "name": "python",
   "nbconvert_exporter": "python",
   "pygments_lexer": "ipython3",
   "version": "3.9.12"
  },
  "orig_nbformat": 4,
  "vscode": {
   "interpreter": {
    "hash": "dc3f44e010abd26ab046284901ce9509711ac3cc1e8fdd0965c6a2a3e20ab15a"
   }
  }
 },
 "nbformat": 4,
 "nbformat_minor": 2
}
